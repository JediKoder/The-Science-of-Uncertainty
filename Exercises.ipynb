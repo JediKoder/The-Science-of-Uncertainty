{
 "cells": [
  {
   "cell_type": "markdown",
   "metadata": {},
   "source": [
    "### For the experiment of flipping a coin, and for each one of the following choices, determine whether we have a legitimate sample space: \n",
    "1. Ω={Heads and it is raining, Heads and it is not raining, Tails}\n",
    "    - Yes\n",
    "2. Ω={Heads and it is raining, Tails and it is not raining, Tails}\n",
    "    - No\n",
    "3. Paul checks the weather forecast. If the forecast is good, Paul will go out for a walk. If the forecast is bad, then Paul will either stay home or go out. If he goes out, he might either remember or forget his umbrella. In the tree diagram below, identify the leaf that corresponds to the event that the forecast is bad and Paul stays home.\n",
    "\n",
    "![Image 1](https://github.com/amarsic1990/MITx-6.041x-Introduction-to-Probability---The-Science-of-Uncertainty/blob/master/Unit%201%20Probability%20models%20and%20axioms/pictures/1.PNG?raw=true)\n",
    "    \n",
    "\n",
    "    \t- 2\n",
    "4. Let A and B be events, with P(A)=0.6 and P(B)=0.7. Can these two events be disjoint?\n",
    "    - No\n",
    "\n",
    "### Let A, B, and C be disjoint subsets of the sample space. For each one of the following statements, determine whether it is true or false. Note: \"False\" means \"not guaranteed to be true.\"\n",
    "5. a) P(A)+P(Ac)+P(B)=P(A∪Ac∪B)\n",
    "    - False\n",
    "5. b) P(A)+P(B)≤1\n",
    "    - True\n",
    "6. c) P(Ac)+P(B)≤1\n",
    "    - False\n",
    "7. d) P(A∪B∪C)≥P(A∪B)\n",
    "    - True\n",
    "\n",
    "### Let A, B, and C be subsets of the sample space, not necessarily disjoint. For each one of the following statements, determine whether it is true or false. Note: “False\" means “not guaranteed to be true.\"\n",
    "8. a) P((A∩B)∪(C∩Ac))≤P(A∪B∪C)\n",
    "    - True\n",
    "9. b) P(A∪B∪C)=P(A∩Cc)+P(C)+P(B∩Ac∩Cc)\n",
    "    - True\n",
    "\n",
    "### Consider the same model of two rolls of a tetrahedral die, with all 16 outcomes equally likely. Find the probability of the following events:\n",
    "10. a) The value in the first roll is strictly larger than the value in the second roll.\n",
    "    - 0.375\n",
    "11. b) The sum of the values obtained in the two rolls is an even number.\n",
    "    - 0.5\n",
    "\n",
    "### Consider a sample space that is the rectangular region [0,1]×[0,2], i.e., the set of all pairs (x,y) that satisfy 0≤x≤1 and 0≤y≤2. Consider a “uniform\" probability law, under which the probability of an event is half of the area of the event. Find the probability of the following events:\n",
    "12. a) The two components x and y have the same values.\n",
    "    - 0\n",
    "13. b) The value, x, of the first component is larger than or equal to the value, y, of the second component.\n",
    "    - 0.25\n",
    "14. c) The value of x2 is larger than or equal to the value of y.\n",
    "    - 0.16667\n",
    "15. Let the sample space be the set of positive integers and suppose that P(n)=1/2n, for n=1,2,…. Find the probability of the set {3,6,9,…}, that is, of the set of of positive integers that are multiples of 3.\n",
    "    - 0.14286\n",
    "16. Let the sample space be the set of positive integers. Is it possible to have a “uniform\" probability law, that is, a probability law that assigns the same probability c to each positive integer?\n",
    "    - No\n",
    "\n",
    "### Let the sample space be the two-dimensional plane. For any real number x, let Ax be the subset of the plane that consists of all points of the vertical line through the point (x,0), i.e., Ax={(x,y):y∈R}.\n",
    "17. a) Do the axioms of probability theory imply that the probability of the union of the sets Ax (which is the whole plane) is equal to the sum of the probabilities P(Ax)?\n",
    "    - No\n",
    "18.  Do the axioms of probability theory imply that P(A1∪A2∪⋯)=∑x=1∞P(Ax)? (In other words, we consider only those lines for which the x coordinate is a positive integer.)\n",
    "    - Yes"
   ]
  }
 ],
 "metadata": {
  "kernelspec": {
   "display_name": "Python 2",
   "language": "python",
   "name": "python2"
  },
  "language_info": {
   "codemirror_mode": {
    "name": "ipython",
    "version": 2
   },
   "file_extension": ".py",
   "mimetype": "text/x-python",
   "name": "python",
   "nbconvert_exporter": "python",
   "pygments_lexer": "ipython2",
   "version": "2.7.11"
  }
 },
 "nbformat": 4,
 "nbformat_minor": 0
}
