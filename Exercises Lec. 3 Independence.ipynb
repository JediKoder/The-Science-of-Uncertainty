{
 "cells": [
  {
   "cell_type": "markdown",
   "metadata": {},
   "source": [
    "# Exercise: Independence of two events - I\n",
    "\n",
    "1. We have a peculiar coin. When tossed twice, the first toss results in Heads with probability 1/2. However, the second toss always yields the same result as the first toss. Thus, the only possible outcomes for a sequence of 2 tosses are HH and TT, and both have equal probabilities. Are the two events A={Heads in the first toss} and B={Heads in the second toss} independent?\n",
    "    - No, they are dependent"
   ]
  },
  {
   "cell_type": "markdown",
   "metadata": {},
   "source": [
    "# Exercise: Independence of two events - II\n",
    "1. Let A be an event, a subset of the sample space Ω. Are A and Ω independent?\n",
    "    - Yes, they are independent"
   ]
  },
  {
   "cell_type": "markdown",
   "metadata": {},
   "source": [
    "# Exercise: Independence of two events - III\n",
    "1. When is an event A independent of itself? Choose one of the following possible answers:\n",
    "    - If and only if P(A) is either 0 or 1"
   ]
  },
  {
   "cell_type": "markdown",
   "metadata": {},
   "source": [
    "# Exercise: Independence of event complements\n",
    "1. Suppose that A and B are independent events. Are Ac and Bc independent?\n",
    "    - Yes, they are independent"
   ]
  },
  {
   "cell_type": "markdown",
   "metadata": {},
   "source": [
    "# Exercise: Conditional independence\n",
    "### Suppose that A and B are conditionally independent given C. Suppose that P(C)>0 and P(Cc)>0.\n",
    "1. Are A and Bc guaranteed to be conditionally independent given C?\n",
    "    - Yes\n",
    "2. Are A and B guaranteed to be conditionally independent given Cc?\n",
    "    - No"
   ]
  },
  {
   "cell_type": "markdown",
   "metadata": {},
   "source": [
    "# Exercise: Independence of multiple events\n",
    "### Suppose that A, B, C, and D are independent. Use intuitive reasoning (not a mathematical proof) to answer the following.\n",
    "1. Is it guaranteed that A∩C is independent from Bc∩D?\n",
    "    - Yes\n",
    "2. Is it guaranteed that A∩Bc∩D is independent from Bc∪Dc?\n",
    "    - No"
   ]
  },
  {
   "cell_type": "markdown",
   "metadata": {},
   "source": [
    "# Exercise: Reliability\n",
    "### Suppose that each unit of a system is up with probability 2/3 and down with probability 1/3. Different units are independent. For each one of the systems shown below, calculate the probability that the whole system is up (that is, that there exists a path from the left end to the right end, consisting entirely of units that are up).\n",
    "1. What is the probability that the following system is up? \n",
    "![](https://github.com/amarsic1990/MITx-6.041x-Introduction-to-Probability---The-Science-of-Uncertainty/blob/master/Unit%202%20Conditioning%20and%20independence/pictures/1.PNG?raw=true)\n",
    "            - 0.59259\n",
    "2. What is the probability that the following system is up? \n",
    "![](https://github.com/amarsic1990/MITx-6.041x-Introduction-to-Probability---The-Science-of-Uncertainty/blob/master/Unit%202%20Conditioning%20and%20independence/pictures/2.PNG?raw=true)\n",
    "            - 0.81481"
   ]
  }
 ],
 "metadata": {
  "kernelspec": {
   "display_name": "Python 2",
   "language": "python",
   "name": "python2"
  },
  "language_info": {
   "codemirror_mode": {
    "name": "ipython",
    "version": 2
   },
   "file_extension": ".py",
   "mimetype": "text/x-python",
   "name": "python",
   "nbconvert_exporter": "python",
   "pygments_lexer": "ipython2",
   "version": "2.7.11"
  }
 },
 "nbformat": 4,
 "nbformat_minor": 0
}
