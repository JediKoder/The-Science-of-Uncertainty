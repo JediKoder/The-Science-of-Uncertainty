{
 "cells": [
  {
   "cell_type": "markdown",
   "metadata": {},
   "source": [
    "# PROBLEM 1: VENN DIAGRAMS \n",
    "In this problem, you are given descriptions in words of certain events (e.g., \"at least one of the events A,B,C occurs\"). For each one of these descriptions, identify the correct symbolic description in terms of A,B,C from Events E1-E7 below. Also identify the correct description in terms of regions (i.e., subsets of the sample space Ω) as depicted in the Venn diagram below. (For example, Region 1 is the part of A outside of B and C.)\n",
    "\n",
    "![Image 2](https://github.com/amarsic1990/MITx-6.041x-Introduction-to-Probability---The-Science-of-Uncertainty/blob/master/Unit%201%20Probability%20models%20and%20axioms/pictures/2.PNG?raw=true)\n",
    "\n",
    "Symbolic descriptions:\n",
    "    - Event E1: A∩B∩C\n",
    "    - Event E2: (A∩B∩C)c\n",
    "    - Event E3: A∩B∩Cc\n",
    "    - Event E4: B∪(Bc∩Cc)\n",
    "    - Event E5: Ac∩Bc∩Cc\n",
    "    - Event E6: (A∩B)∪(A∩C)∪(B∩C)\n",
    "    - Event E7: (A∩Bc∩Cc)∪(Ac∩B∩Cc)∪(Ac∩Bc∩C)\n",
    "1. At least two of the events A, B, C occur.\n",
    "    - Event E6\n",
    "    - Regions: 2 4 5 6\n",
    "2. At most two of the events A, B, C occur.\n",
    "    - Event E2\n",
    "    - Regions: 1 2 3 5 6 7 8\n",
    "3. None of the events A, B, C occurs.\n",
    "    - Event E5\n",
    "    - Regions: 8\n",
    "4. All three events A, B, C occur.\n",
    "    - Event E1\n",
    "    - Region: 4\n",
    "5. Exactly one of the events A, B, C occurs.\n",
    "    - Event E7\n",
    "    - Regions: 1 3 7\n",
    "6. Events A and B occur, but C does not occur.\n",
    "    - Event E3\n",
    "    - Region: 2\n",
    "7. Either event B occurs or, if not, then C also does not occur.\n",
    "    - Event E4\n",
    "    - Regions: 1 2 3 4 6 8"
   ]
  },
  {
   "cell_type": "markdown",
   "metadata": {},
   "source": [
    "# PROBLEM 2: SET OPERATIONS AND PROBABILITIES\n",
    "Find the value of P(A∪(Bc∪Cc)c) for each of the following cases:\n",
    "1. The events A, B, C are disjoint events and P(A)=2/5.\n",
    "    - P(A∪(Bc∪Cc)c)=\n",
    "        - 0.4\n",
    "2. The events A and C are disjoint, and P(A)=1/2 and P(B∩C)=1/4.\n",
    "    - P(A∪(Bc∪Cc)c) =\n",
    "        - 0.75\n",
    "3. P(Ac∩(Bc∪Cc))=0.7. \n",
    "    - P(A∪(Bc∪Cc)c)=\n",
    "        - 0.3"
   ]
  },
  {
   "cell_type": "markdown",
   "metadata": {},
   "source": [
    "# PROBLEM 3: THREE TOSSES OF A FAIR COIN\n",
    "You flip a fair coin (i.e., the probability of obtaining Heads is 1/2) three times. Assume that all sequences of coin flip results, of length 3, are equally likely. Determine the probability of each of the following events.\n",
    "1. {HHH}: 3 Heads\n",
    "    - 0.125\n",
    "2. {HTH}: the sequence Heads, Tails, Heads\n",
    "    - 0.125\n",
    "3. Any sequence with 2 Heads and 1 Tails (in any order):\n",
    "    - 0.375\n",
    "4. Any sequence in which the number of Heads is greater than or equal to the number of Tails:\n",
    "    - 0.5"
   ]
  },
  {
   "cell_type": "markdown",
   "metadata": {},
   "source": [
    "# PROBLEM 4: PARKING LOT PROBLEM\n",
    "1. Mary and Tom park their cars in an empty parking lot with n≥2 consecutive parking spaces (i.e, n spaces in a row, where only one car fits in each space). Mary and Tom pick parking spaces at random. (All pairs of parking spaces are equally likely.) What is the probability that there is at most one empty parking space between them? (Express your answer using standard notation .)\n",
    "    - (4*n-6) / (n*(n-1))"
   ]
  },
  {
   "cell_type": "markdown",
   "metadata": {},
   "source": [
    "# PROBLEM 5: PROBABILITIES ON A CONTINUOUS SAMPLE SPACE\n",
    "Alice and Bob each choose at random a real number between zero and one. We assume that the pair of numbers is chosen according to the uniform probability law on the unit square, so that the probability of an event is equal to its area. We define the following events:\n",
    "\n",
    " \tA\t=\t{The magnitude of the difference of the two numbers is greater than 1/3}\t \t\n",
    " \tB\t=\t{At least one of the numbers is greater than 1/4}\t \t\n",
    " \tC\t=\t{The sum of the two numbers is 1}\t \t\n",
    " \tD\t=\t{Alice's number is greater than 1/4}\t \t\n",
    "Find the following probabilities:\n",
    "1. P(A)= \n",
    "    - 0.44\n",
    "2. P(B) = \n",
    "    - 0.9375\n",
    "3. P(A∩B) = \n",
    "    - 0.444\n",
    "4. P(C) = \n",
    "    - 0\n",
    "5. P(D) =\n",
    "    - 0.75\n",
    "6. P(A∩D)=\n",
    "    - 0.305"
   ]
  }
 ],
 "metadata": {
  "kernelspec": {
   "display_name": "Python 2",
   "language": "python",
   "name": "python2"
  },
  "language_info": {
   "codemirror_mode": {
    "name": "ipython",
    "version": 2
   },
   "file_extension": ".py",
   "mimetype": "text/x-python",
   "name": "python",
   "nbconvert_exporter": "python",
   "pygments_lexer": "ipython2",
   "version": "2.7.11"
  }
 },
 "nbformat": 4,
 "nbformat_minor": 0
}
