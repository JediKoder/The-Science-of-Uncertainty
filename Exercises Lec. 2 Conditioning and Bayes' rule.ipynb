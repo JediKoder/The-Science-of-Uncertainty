{
 "cells": [
  {
   "cell_type": "markdown",
   "metadata": {},
   "source": [
    "# Exercise: Conditional probabilities\n",
    "### Are the following statements true of false?\n",
    "1. If Ω is finite and we have a discrete uniform probability law, and if B≠∅, then the conditional probability law on B, given that B occurred, is also discrete uniform.\n",
    "    - True\n",
    "2. If Ω is finite and we have a discrete uniform probability law, and if B≠∅, then the conditional probability law on Ω, given that B occurred, is also discrete uniform.\n",
    "    - False"
   ]
  },
  {
   "cell_type": "markdown",
   "metadata": {},
   "source": [
    "# Exercise: Conditional probabilities in a continuous model\n",
    "1. Let the sample space be the unit square, Ω=[0,1]2, and let the probability of a set be the area of the set. Let A be the set of points (x,y)∈[0,1]2 for which y≤x. Let B be the set of points for which x≤1/2. Find P(A∣B).\n",
    "    - P(A∣B)= 0.25"
   ]
  },
  {
   "cell_type": "markdown",
   "metadata": {},
   "source": [
    "# Exercise: The multiplication rule\n",
    "### Are the following statements true or false? (Assume that all conditioning events have positive probability.)\n",
    "1. P(A∩B∩Cc)=P(A∩B)P(Cc∣A∩B)\n",
    "    - True\n",
    "2. P(A∩B∩Cc)=P(A)P(Cc∣A)P(B∣A∩Cc)\n",
    "    - True\n",
    "3. P(A∩B∩Cc)=P(A)P(Cc∩A∣A)P(B∣A∩Cc)\n",
    "    - True\n",
    "4. P(A∩B∣C)=P(A∣C)P(B∣A∩C)\n",
    "    - True"
   ]
  },
  {
   "cell_type": "markdown",
   "metadata": {},
   "source": [
    "# Exercise: Total probability theorem\n",
    "### We have an infinite collection of biased coins, indexed by the positive integers. Coin i has probability 2−i of being selected. A flip of coin i results in Heads with probability 3−i. We select a coin and flip it. What is the probability that the result is Heads? The geometric sum formula may be useful here: ∑i=1∞αi=α1−α, when |α|<1.\n",
    "1. The probability that the result is Heads is:\n",
    "    - 1/5"
   ]
  },
  {
   "cell_type": "markdown",
   "metadata": {},
   "source": [
    "# Exercise: Bayes' rule and the false-positive puzzle\n",
    "### A test for a certain rare disease is assumed to be correct 95% of the time: if a person has the disease, the test result is positive with probability 0.95, and if the person does not have the disease, the test result is negative with probability 0.95. A person drawn at random from a certain population has probability 0.001 of having the disease.\n",
    "1. Find the probability that a random person tests positive.\n",
    "    - 0.0509\n",
    "2. Given that the person just tested positive, what is the probability he actually has the disease?\n",
    "    - 0.01866"
   ]
  },
  {
   "cell_type": "code",
   "execution_count": null,
   "metadata": {
    "collapsed": true
   },
   "outputs": [],
   "source": []
  }
 ],
 "metadata": {
  "kernelspec": {
   "display_name": "Python 2",
   "language": "python",
   "name": "python2"
  },
  "language_info": {
   "codemirror_mode": {
    "name": "ipython",
    "version": 2
   },
   "file_extension": ".py",
   "mimetype": "text/x-python",
   "name": "python",
   "nbconvert_exporter": "python",
   "pygments_lexer": "ipython2",
   "version": "2.7.11"
  }
 },
 "nbformat": 4,
 "nbformat_minor": 0
}
