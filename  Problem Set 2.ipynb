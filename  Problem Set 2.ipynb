{
 "cells": [
  {
   "cell_type": "markdown",
   "metadata": {},
   "source": [
    "# Problem 1: Two five-sided dice\n",
    "### You roll two five-sided dice. The sides of each die are numbered from 1 to 5. The dice are “fair\" (all sides are equally likely), and the two die rolls are independent.\n",
    "### Part (a): Event A is “the total is 10\" (i.e., the sum of the results of the two die rolls is 10).\n",
    "1. Is event A independent of the event “at least one of the dice resulted in a 5\"?\n",
    "    - No\n",
    "2. Is event A independent of the event “at least one of the dice resulted in a 1\"?\n",
    "    - No\n",
    "    \n",
    "### Part (b): Event B is “the total is 8.\"\n",
    "1. Is event B independent of getting “doubles\" (i.e., both dice resulting in the same number)?\n",
    "    - No\n",
    "2. Given that the total was 8, what is the probability that at least one of the dice resulted in a 3?\n",
    "    - 2/3"
   ]
  },
  {
   "cell_type": "markdown",
   "metadata": {},
   "source": [
    "# Problem 2: A reliability problem\n",
    "### Consider the communication network shown in the figure below and suppose that each link can fail with probability p. Assume that failures of different links are independent.\n",
    "![](https://github.com/amarsic1990/MITx-6.041x-Introduction-to-Probability---The-Science-of-Uncertainty/blob/master/Unit%202%20Conditioning%20and%20independence/pictures/3.PNG?raw=true)\n",
    "1. Assume that p=1/3. Find the probability that there exists a path from A to B along which no link has failed. (Give a numerical answer.)\n",
    "    - 0.46091\n",
    "2. Given that exactly one link in the network has failed, find the probability that there exists a path from A to B along which no link has failed. (Give a numerical answer.)\n",
    "    - 0.8"
   ]
  },
  {
   "cell_type": "markdown",
   "metadata": {},
   "source": [
    "# Problem 3: Oscar's lost dog in the forest\n",
    "\n",
    "### Oscar has lost his dog in either forest A (with probability 0.4) or in forest B (with probability 0.6).\n",
    "\n",
    "### If the dog is in forest A and Oscar spends a day searching for it in forest A, the conditional probability that he will find the dog that day is 0.25. Similarly, if the dog is in forest B and Oscar spends a day looking for it there, he will find the dog that day with probability 0.15.\n",
    "\n",
    "### The dog cannot go from one forest to the other. Oscar can search only in the daytime, and he can travel from one forest to the other only overnight.\n",
    "\n",
    "### The dog is alive during day 0, when Oscar loses it, and during day 1, when Oscar starts searching. It is alive during day 2 with probability 2/3. In general, for n≥1, if the dog is alive during day n−1, then the probability it is alive during day n is 2/(n+1). The dog can only die overnight. Oscar stops searching as soon as he finds his dog, either alive or dead.\n",
    "1. In which forest should Oscar look on the first day of the search to maximize the probability he finds his dog that day?\n",
    "    - Forest A\n",
    "2. Oscar looked in forest A on the first day but didn't find his dog. What is the probability that the dog is in forest A?\n",
    "    - 1/3\n",
    "3. Oscar flips a fair coin to determine where to look on the first day and finds the dog on the first day. What is the probability that he looked in forest A?\n",
    "    - 0.5263\n",
    "4. Oscar decides to look in forest A for the first two days. What is the probability that he finds his dog alive for the first time on the second day?\n",
    "    - 0.05\n",
    "5. Oscar decides to look in forest A for the first two days. Given that he did not find his dog on the first day, find the probability that he does not find his dog dead on the second day.\n",
    "    - 0.972\n",
    "6. Oscar finally finds his dog on the fourth day of the search. He looked in forest A for the first 3 days and in forest B on the fourth day. Given this information, what is the probability that he found his dog alive?\n",
    "    - 0.133"
   ]
  },
  {
   "cell_type": "markdown",
   "metadata": {},
   "source": [
    "# Problem 4: Victor and his umbrella\n",
    "### Before leaving for work, Victor checks the weather report in order to decide whether to carry an umbrella. On any given day, with probability 0.2 the forecast is “rain\" and with probability 0.8 the forecast is “no rain\". If the forecast is “rain\", the probability of actually having rain on that day is 0.8. On the other hand, if the forecast is “no rain\", the probability of actually raining is 0.1.\n",
    "1. One day, Victor missed the forecast and it rained. What is the probability that the forecast was “rain\"?\n",
    "    - 2/3\n",
    "2. Victor misses the morning forecast with probability 0.2 on any day in the year. If he misses the forecast, Victor will flip a fair coin to decide whether to carry an umbrella. (We assume that the result of the coin flip is independent from the forecast and the weather.) On any day he sees the forecast, if it says “rain\" he will always carry an umbrella, and if it says “no rain\" he will not carry an umbrella. Let U be the event that “Victor is carrying an umbrella\", and let N be the event that the forecast is “no rain\". Are events U and N independent?\n",
    "    - No\n",
    "3. Victor is carrying an umbrella and it is not raining. What is the probability that he saw the forecast?\n",
    "    - 2963/10000"
   ]
  }
 ],
 "metadata": {
  "kernelspec": {
   "display_name": "Python 2",
   "language": "python",
   "name": "python2"
  },
  "language_info": {
   "codemirror_mode": {
    "name": "ipython",
    "version": 2
   },
   "file_extension": ".py",
   "mimetype": "text/x-python",
   "name": "python",
   "nbconvert_exporter": "python",
   "pygments_lexer": "ipython2",
   "version": "2.7.11"
  }
 },
 "nbformat": 4,
 "nbformat_minor": 0
}
